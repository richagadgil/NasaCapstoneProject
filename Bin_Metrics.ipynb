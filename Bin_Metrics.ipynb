{
  "nbformat": 4,
  "nbformat_minor": 0,
  "metadata": {
    "colab": {
      "name": "Bin Metrics.ipynb",
      "provenance": [],
      "collapsed_sections": []
    },
    "kernelspec": {
      "name": "python3",
      "display_name": "Python 3"
    }
  },
  "cells": [
    {
      "cell_type": "code",
      "metadata": {
        "id": "B6TurZRru-Dz",
        "colab": {
          "base_uri": "https://localhost:8080/"
        },
        "outputId": "735d80f2-257b-4989-8684-8b8e69a30ff3"
      },
      "source": [
        "import numpy as np\n",
        "from numpy.testing import assert_allclose\n",
        "from keras.models import Sequential, load_model\n",
        "from keras.layers import LSTM, Dropout, Dense\n",
        "from keras.callbacks import ModelCheckpoint\n",
        "!pip install plotly --upgrade  # make sure your plotly is up to date\n",
        "\n",
        "import plotly.express as px\n",
        "import numpy as np\n",
        "import pandas as pd\n",
        "from scipy.io import loadmat\n",
        "import matplotlib.pyplot as plt\n",
        "\n",
        "\n",
        "#!pip install plotly --upgrade  # make sure your plotly is up to date\n",
        "\n",
        "import plotly.express as px\n",
        "import numpy as np\n",
        "import pandas as pd\n",
        "from scipy.io import loadmat\n",
        "import matplotlib.pyplot as plt"
      ],
      "execution_count": 14,
      "outputs": [
        {
          "output_type": "stream",
          "text": [
            "Requirement already up-to-date: plotly in /usr/local/lib/python3.7/dist-packages (4.14.3)\n",
            "Requirement already satisfied, skipping upgrade: retrying>=1.3.3 in /usr/local/lib/python3.7/dist-packages (from plotly) (1.3.3)\n",
            "Requirement already satisfied, skipping upgrade: six in /usr/local/lib/python3.7/dist-packages (from plotly) (1.15.0)\n"
          ],
          "name": "stdout"
        }
      ]
    },
    {
      "cell_type": "code",
      "metadata": {
        "colab": {
          "base_uri": "https://localhost:8080/"
        },
        "id": "v4Bw8Qh0iSQM",
        "outputId": "5fdb1180-f067-4fcc-f905-b26e0ac6b44e"
      },
      "source": [
        "import os\n",
        "os.listdir()"
      ],
      "execution_count": 5,
      "outputs": [
        {
          "output_type": "execute_result",
          "data": {
            "text/plain": [
              "['.config', 'model_complete.h5', 'sample_data']"
            ]
          },
          "metadata": {
            "tags": []
          },
          "execution_count": 5
        }
      ]
    },
    {
      "cell_type": "code",
      "metadata": {
        "id": "gsE4MPuSvJ8Y"
      },
      "source": [
        "new_model = load_model('model_complete.h5')"
      ],
      "execution_count": 6,
      "outputs": []
    },
    {
      "cell_type": "code",
      "metadata": {
        "id": "XmKsyr1ukza_",
        "colab": {
          "base_uri": "https://localhost:8080/"
        },
        "outputId": "093982b7-ae9d-4b61-99cc-444f9c7ed2f2"
      },
      "source": [
        "from google.colab import drive\n",
        "drive.mount('/content/drive')"
      ],
      "execution_count": 7,
      "outputs": [
        {
          "output_type": "stream",
          "text": [
            "Mounted at /content/drive\n"
          ],
          "name": "stdout"
        }
      ]
    },
    {
      "cell_type": "code",
      "metadata": {
        "id": "unpjoHPavUAr",
        "colab": {
          "base_uri": "https://localhost:8080/"
        },
        "outputId": "60884c34-00b6-4cfe-a7be-129c0dbc8bf5"
      },
      "source": [
        "from google.colab import drive\n",
        "drive.mount('/content/drive')\n",
        "\n",
        "spectra = loadmat('/content/drive/MyDrive/Spectra_3s_25c.mat')\n",
        "#more_spectra = loadmat('/content/drive/MyDrive/5_more_spectra.mat')\n",
        "spectra.keys()"
      ],
      "execution_count": 8,
      "outputs": [
        {
          "output_type": "stream",
          "text": [
            "Drive already mounted at /content/drive; to attempt to forcibly remount, call drive.mount(\"/content/drive\", force_remount=True).\n"
          ],
          "name": "stdout"
        },
        {
          "output_type": "execute_result",
          "data": {
            "text/plain": [
              "dict_keys(['__header__', '__version__', '__globals__', 'AmpSAmp', 'Dm_total_save', 'GammaAmp', 'GammaSAmp', 'GammaS_total_save', 'Gamma_total_save', 'M', 'NmaxS', 'dG', 'dGS', 'frequencies', 'n_int', 'noiseAmpScaled', 'omegaS_total_save', 'omega_total_save'])"
            ]
          },
          "metadata": {
            "tags": []
          },
          "execution_count": 8
        }
      ]
    },
    {
      "cell_type": "code",
      "metadata": {
        "id": "ukTj6sjlvZqM"
      },
      "source": [
        "all_channels = pd.DataFrame(np.transpose(np.transpose(spectra['Dm_total_save'])[0]))\n",
        "modes = [x[0]*np.shape(spectra['Dm_total_save'])[0] for x in spectra['omega_total_save']]"
      ],
      "execution_count": 9,
      "outputs": []
    },
    {
      "cell_type": "code",
      "metadata": {
        "id": "9eDgXTcPvlld",
        "colab": {
          "base_uri": "https://localhost:8080/"
        },
        "outputId": "00e57b5f-401e-4e8f-9c98-56af27aef43a"
      },
      "source": [
        "labeled_modes=[]\n",
        "for i in range(3):\n",
        "  print(\"ITERATION: \"+str(i))\n",
        "  amp=[]\n",
        "  length = np.shape(spectra['Dm_total_save'])[0]\n",
        "  modes = [x[i]*length for x in spectra['omega_total_save']]\n",
        "  seeker = 0\n",
        "  modes = np.sort(modes)\n",
        "  for j in range(length):\n",
        "    all_amp = [0]\n",
        "    while seeker < len(modes) and modes[seeker] <= j+100:\n",
        "        # print(np.exp(np.square((j-modes[seeker])/100)))\n",
        "      all_amp.append(1/(np.exp(np.square((j-modes[seeker])/10))))\n",
        "      seeker += 1\n",
        "    while seeker < len(modes) and seeker >= 0 and modes[seeker] >= j-100:\n",
        "      # print(modes[seeker])\n",
        "      seeker -= 1\n",
        "    seeker = max(seeker,0)\n",
        "    amp.append(max(all_amp))\n",
        "    if j %100000 ==0: print(j)\n",
        "  for i in range(5):\n",
        "    labeled_modes.extend(amp)\n",
        "  print(len(labeled_modes))"
      ],
      "execution_count": 10,
      "outputs": [
        {
          "output_type": "stream",
          "text": [
            "ITERATION: 0\n",
            "0\n"
          ],
          "name": "stdout"
        },
        {
          "output_type": "stream",
          "text": [
            "/usr/local/lib/python3.7/dist-packages/ipykernel_launcher.py:13: RuntimeWarning:\n",
            "\n",
            "overflow encountered in exp\n",
            "\n"
          ],
          "name": "stderr"
        },
        {
          "output_type": "stream",
          "text": [
            "100000\n",
            "200000\n",
            "300000\n",
            "400000\n",
            "500000\n",
            "600000\n",
            "700000\n",
            "800000\n",
            "900000\n",
            "5000000\n",
            "ITERATION: 1\n",
            "0\n",
            "100000\n",
            "200000\n",
            "300000\n",
            "400000\n",
            "500000\n",
            "600000\n",
            "700000\n",
            "800000\n",
            "900000\n",
            "10000000\n",
            "ITERATION: 2\n",
            "0\n",
            "100000\n",
            "200000\n",
            "300000\n",
            "400000\n",
            "500000\n",
            "600000\n",
            "700000\n",
            "800000\n",
            "900000\n",
            "15000000\n"
          ],
          "name": "stdout"
        }
      ]
    },
    {
      "cell_type": "code",
      "metadata": {
        "id": "Rn9hG2b_vnZS"
      },
      "source": [
        "# training set generation\n",
        "x = []\n",
        "for i in range(3):\n",
        "  all_channels = pd.DataFrame(np.transpose(np.transpose(spectra['Dm_total_save'])[i]))\n",
        "  x.extend(np.array(all_channels[[0,1,2,3,4]]))\n",
        "  x.extend(np.array(all_channels[[5,6,7,8,9]]))\n",
        "  x.extend(np.array(all_channels[[10,11,12,13,14]]))\n",
        "  x.extend(np.array(all_channels[[15,16,17,18,19]]))\n",
        "  x.extend(np.array(all_channels[[20,21,22,23,24]]))"
      ],
      "execution_count": 11,
      "outputs": []
    },
    {
      "cell_type": "code",
      "metadata": {
        "id": "2oGtQjC0y83f",
        "colab": {
          "base_uri": "https://localhost:8080/"
        },
        "outputId": "aee62c2a-3654-4b17-bbe6-ba730449f067"
      },
      "source": [
        "!pip freeze | grep plotly"
      ],
      "execution_count": 12,
      "outputs": [
        {
          "output_type": "stream",
          "text": [
            "plotly==4.14.3\n"
          ],
          "name": "stdout"
        }
      ]
    },
    {
      "cell_type": "code",
      "metadata": {
        "id": "T_Jan4r0czzX",
        "colab": {
          "base_uri": "https://localhost:8080/",
          "height": 392
        },
        "outputId": "6476de68-5a1a-4ee1-bc44-533b4eda1146"
      },
      "source": [
        "pd.options.plotting.backend = \"plotly\" \n",
        "\n",
        "def show_spectra(view_range,spect,modes, spectra_sample=True):\n",
        "  # take subset of plot\n",
        "  t_modes = np.sort(modes)\n",
        "  temp_modes = pd.Series(t_modes)[(pd.Series(t_modes) < view_range[1])]\n",
        "  temp_modes = pd.Series(temp_modes)[(pd.Series(temp_modes) > view_range[0])]\n",
        "  fig = []\n",
        "  if spectra_sample:\n",
        "    fig = pd.Series(spect).iloc[range(view_range[0],view_range[1])].plot(kind='line')\n",
        "  else:\n",
        "    fig = pd.Series(spect).plot(template='plotly_dark', kind='line')\n",
        "    temp_modes -= view_range[0]\n",
        "  for mode in temp_modes:\n",
        "    fig.add_vline(x=mode, line_width=1, line_color=\"green\") #requires plotly 4.12 and above\n",
        "  fig.show()"
      ],
      "execution_count": 15,
      "outputs": [
        {
          "output_type": "error",
          "ename": "ValueError",
          "evalue": "ignored",
          "traceback": [
            "\u001b[0;31m---------------------------------------------------------------------------\u001b[0m",
            "\u001b[0;31mValueError\u001b[0m                                Traceback (most recent call last)",
            "\u001b[0;32m<ipython-input-15-18dbd235be6f>\u001b[0m in \u001b[0;36m<module>\u001b[0;34m()\u001b[0m\n\u001b[0;32m----> 1\u001b[0;31m \u001b[0mpd\u001b[0m\u001b[0;34m.\u001b[0m\u001b[0moptions\u001b[0m\u001b[0;34m.\u001b[0m\u001b[0mplotting\u001b[0m\u001b[0;34m.\u001b[0m\u001b[0mbackend\u001b[0m \u001b[0;34m=\u001b[0m \u001b[0;34m\"plotly\"\u001b[0m\u001b[0;34m\u001b[0m\u001b[0;34m\u001b[0m\u001b[0m\n\u001b[0m\u001b[1;32m      2\u001b[0m \u001b[0;34m\u001b[0m\u001b[0m\n\u001b[1;32m      3\u001b[0m \u001b[0;32mdef\u001b[0m \u001b[0mshow_spectra\u001b[0m\u001b[0;34m(\u001b[0m\u001b[0mview_range\u001b[0m\u001b[0;34m,\u001b[0m\u001b[0mspect\u001b[0m\u001b[0;34m,\u001b[0m\u001b[0mmodes\u001b[0m\u001b[0;34m,\u001b[0m \u001b[0mspectra_sample\u001b[0m\u001b[0;34m=\u001b[0m\u001b[0;32mTrue\u001b[0m\u001b[0;34m)\u001b[0m\u001b[0;34m:\u001b[0m\u001b[0;34m\u001b[0m\u001b[0;34m\u001b[0m\u001b[0m\n\u001b[1;32m      4\u001b[0m   \u001b[0;31m# take subset of plot\u001b[0m\u001b[0;34m\u001b[0m\u001b[0;34m\u001b[0m\u001b[0;34m\u001b[0m\u001b[0m\n\u001b[1;32m      5\u001b[0m   \u001b[0mt_modes\u001b[0m \u001b[0;34m=\u001b[0m \u001b[0mnp\u001b[0m\u001b[0;34m.\u001b[0m\u001b[0msort\u001b[0m\u001b[0;34m(\u001b[0m\u001b[0mmodes\u001b[0m\u001b[0;34m)\u001b[0m\u001b[0;34m\u001b[0m\u001b[0;34m\u001b[0m\u001b[0m\n",
            "\u001b[0;32m/usr/local/lib/python3.7/dist-packages/pandas/_config/config.py\u001b[0m in \u001b[0;36m__setattr__\u001b[0;34m(self, key, val)\u001b[0m\n\u001b[1;32m    194\u001b[0m         \u001b[0;31m# can you can't overwrite subtrees\u001b[0m\u001b[0;34m\u001b[0m\u001b[0;34m\u001b[0m\u001b[0;34m\u001b[0m\u001b[0m\n\u001b[1;32m    195\u001b[0m         \u001b[0;32mif\u001b[0m \u001b[0mkey\u001b[0m \u001b[0;32min\u001b[0m \u001b[0mself\u001b[0m\u001b[0;34m.\u001b[0m\u001b[0md\u001b[0m \u001b[0;32mand\u001b[0m \u001b[0;32mnot\u001b[0m \u001b[0misinstance\u001b[0m\u001b[0;34m(\u001b[0m\u001b[0mself\u001b[0m\u001b[0;34m.\u001b[0m\u001b[0md\u001b[0m\u001b[0;34m[\u001b[0m\u001b[0mkey\u001b[0m\u001b[0;34m]\u001b[0m\u001b[0;34m,\u001b[0m \u001b[0mdict\u001b[0m\u001b[0;34m)\u001b[0m\u001b[0;34m:\u001b[0m\u001b[0;34m\u001b[0m\u001b[0;34m\u001b[0m\u001b[0m\n\u001b[0;32m--> 196\u001b[0;31m             \u001b[0m_set_option\u001b[0m\u001b[0;34m(\u001b[0m\u001b[0mprefix\u001b[0m\u001b[0;34m,\u001b[0m \u001b[0mval\u001b[0m\u001b[0;34m)\u001b[0m\u001b[0;34m\u001b[0m\u001b[0;34m\u001b[0m\u001b[0m\n\u001b[0m\u001b[1;32m    197\u001b[0m         \u001b[0;32melse\u001b[0m\u001b[0;34m:\u001b[0m\u001b[0;34m\u001b[0m\u001b[0;34m\u001b[0m\u001b[0m\n\u001b[1;32m    198\u001b[0m             \u001b[0;32mraise\u001b[0m \u001b[0mOptionError\u001b[0m\u001b[0;34m(\u001b[0m\u001b[0;34m\"You can only set the value of existing options\"\u001b[0m\u001b[0;34m)\u001b[0m\u001b[0;34m\u001b[0m\u001b[0;34m\u001b[0m\u001b[0m\n",
            "\u001b[0;32m/usr/local/lib/python3.7/dist-packages/pandas/_config/config.py\u001b[0m in \u001b[0;36m_set_option\u001b[0;34m(*args, **kwargs)\u001b[0m\n\u001b[1;32m    128\u001b[0m         \u001b[0mo\u001b[0m \u001b[0;34m=\u001b[0m \u001b[0m_get_registered_option\u001b[0m\u001b[0;34m(\u001b[0m\u001b[0mkey\u001b[0m\u001b[0;34m)\u001b[0m\u001b[0;34m\u001b[0m\u001b[0;34m\u001b[0m\u001b[0m\n\u001b[1;32m    129\u001b[0m         \u001b[0;32mif\u001b[0m \u001b[0mo\u001b[0m \u001b[0;32mand\u001b[0m \u001b[0mo\u001b[0m\u001b[0;34m.\u001b[0m\u001b[0mvalidator\u001b[0m\u001b[0;34m:\u001b[0m\u001b[0;34m\u001b[0m\u001b[0;34m\u001b[0m\u001b[0m\n\u001b[0;32m--> 130\u001b[0;31m             \u001b[0mo\u001b[0m\u001b[0;34m.\u001b[0m\u001b[0mvalidator\u001b[0m\u001b[0;34m(\u001b[0m\u001b[0mv\u001b[0m\u001b[0;34m)\u001b[0m\u001b[0;34m\u001b[0m\u001b[0;34m\u001b[0m\u001b[0m\n\u001b[0m\u001b[1;32m    131\u001b[0m \u001b[0;34m\u001b[0m\u001b[0m\n\u001b[1;32m    132\u001b[0m         \u001b[0;31m# walk the nested dict\u001b[0m\u001b[0;34m\u001b[0m\u001b[0;34m\u001b[0m\u001b[0;34m\u001b[0m\u001b[0m\n",
            "\u001b[0;32m/usr/local/lib/python3.7/dist-packages/pandas/core/config_init.py\u001b[0m in \u001b[0;36mregister_plotting_backend_cb\u001b[0;34m(key)\u001b[0m\n\u001b[1;32m    642\u001b[0m     \u001b[0;32mfrom\u001b[0m \u001b[0mpandas\u001b[0m\u001b[0;34m.\u001b[0m\u001b[0mplotting\u001b[0m\u001b[0;34m.\u001b[0m\u001b[0m_core\u001b[0m \u001b[0;32mimport\u001b[0m \u001b[0m_get_plot_backend\u001b[0m\u001b[0;34m\u001b[0m\u001b[0;34m\u001b[0m\u001b[0m\n\u001b[1;32m    643\u001b[0m \u001b[0;34m\u001b[0m\u001b[0m\n\u001b[0;32m--> 644\u001b[0;31m     \u001b[0m_get_plot_backend\u001b[0m\u001b[0;34m(\u001b[0m\u001b[0mkey\u001b[0m\u001b[0;34m)\u001b[0m\u001b[0;34m\u001b[0m\u001b[0;34m\u001b[0m\u001b[0m\n\u001b[0m\u001b[1;32m    645\u001b[0m \u001b[0;34m\u001b[0m\u001b[0m\n\u001b[1;32m    646\u001b[0m \u001b[0;34m\u001b[0m\u001b[0m\n",
            "\u001b[0;32m/usr/local/lib/python3.7/dist-packages/pandas/plotting/_core.py\u001b[0m in \u001b[0;36m_get_plot_backend\u001b[0;34m(backend)\u001b[0m\n\u001b[1;32m   1788\u001b[0m         \u001b[0;32mreturn\u001b[0m \u001b[0m_backends\u001b[0m\u001b[0;34m[\u001b[0m\u001b[0mbackend\u001b[0m\u001b[0;34m]\u001b[0m\u001b[0;34m\u001b[0m\u001b[0;34m\u001b[0m\u001b[0m\n\u001b[1;32m   1789\u001b[0m \u001b[0;34m\u001b[0m\u001b[0m\n\u001b[0;32m-> 1790\u001b[0;31m     \u001b[0mmodule\u001b[0m \u001b[0;34m=\u001b[0m \u001b[0m_find_backend\u001b[0m\u001b[0;34m(\u001b[0m\u001b[0mbackend\u001b[0m\u001b[0;34m)\u001b[0m\u001b[0;34m\u001b[0m\u001b[0;34m\u001b[0m\u001b[0m\n\u001b[0m\u001b[1;32m   1791\u001b[0m     \u001b[0m_backends\u001b[0m\u001b[0;34m[\u001b[0m\u001b[0mbackend\u001b[0m\u001b[0;34m]\u001b[0m \u001b[0;34m=\u001b[0m \u001b[0mmodule\u001b[0m\u001b[0;34m\u001b[0m\u001b[0;34m\u001b[0m\u001b[0m\n\u001b[1;32m   1792\u001b[0m     \u001b[0;32mreturn\u001b[0m \u001b[0mmodule\u001b[0m\u001b[0;34m\u001b[0m\u001b[0;34m\u001b[0m\u001b[0m\n",
            "\u001b[0;32m/usr/local/lib/python3.7/dist-packages/pandas/plotting/_core.py\u001b[0m in \u001b[0;36m_find_backend\u001b[0;34m(backend)\u001b[0m\n\u001b[1;32m   1751\u001b[0m \u001b[0;34m\u001b[0m\u001b[0m\n\u001b[1;32m   1752\u001b[0m     raise ValueError(\n\u001b[0;32m-> 1753\u001b[0;31m         \u001b[0;34mf\"Could not find plotting backend '{backend}'. Ensure that you've installed \"\u001b[0m\u001b[0;34m\u001b[0m\u001b[0;34m\u001b[0m\u001b[0m\n\u001b[0m\u001b[1;32m   1754\u001b[0m         \u001b[0;34mf\"the package providing the '{backend}' entrypoint, or that the package has a \"\u001b[0m\u001b[0;34m\u001b[0m\u001b[0;34m\u001b[0m\u001b[0m\n\u001b[1;32m   1755\u001b[0m         \u001b[0;34m\"top-level `.plot` method.\"\u001b[0m\u001b[0;34m\u001b[0m\u001b[0;34m\u001b[0m\u001b[0m\n",
            "\u001b[0;31mValueError\u001b[0m: Could not find plotting backend 'plotly'. Ensure that you've installed the package providing the 'plotly' entrypoint, or that the package has a top-level `.plot` method."
          ]
        }
      ]
    },
    {
      "cell_type": "code",
      "metadata": {
        "id": "luNAdATjbAVc",
        "colab": {
          "base_uri": "https://localhost:8080/",
          "height": 181
        },
        "outputId": "10b7da25-bc28-4bfc-c021-08a1c3077420"
      },
      "source": [
        "modes = [x[0]*length for x in spectra['omega_total_save']]\n",
        "show_spectra((int(500000), int(501000)), labeled_modes, modes)"
      ],
      "execution_count": 16,
      "outputs": [
        {
          "output_type": "error",
          "ename": "NameError",
          "evalue": "ignored",
          "traceback": [
            "\u001b[0;31m---------------------------------------------------------------------------\u001b[0m",
            "\u001b[0;31mNameError\u001b[0m                                 Traceback (most recent call last)",
            "\u001b[0;32m<ipython-input-16-ca63f116aecd>\u001b[0m in \u001b[0;36m<module>\u001b[0;34m()\u001b[0m\n\u001b[1;32m      1\u001b[0m \u001b[0mmodes\u001b[0m \u001b[0;34m=\u001b[0m \u001b[0;34m[\u001b[0m\u001b[0mx\u001b[0m\u001b[0;34m[\u001b[0m\u001b[0;36m0\u001b[0m\u001b[0;34m]\u001b[0m\u001b[0;34m*\u001b[0m\u001b[0mlength\u001b[0m \u001b[0;32mfor\u001b[0m \u001b[0mx\u001b[0m \u001b[0;32min\u001b[0m \u001b[0mspectra\u001b[0m\u001b[0;34m[\u001b[0m\u001b[0;34m'omega_total_save'\u001b[0m\u001b[0;34m]\u001b[0m\u001b[0;34m]\u001b[0m\u001b[0;34m\u001b[0m\u001b[0;34m\u001b[0m\u001b[0m\n\u001b[0;32m----> 2\u001b[0;31m \u001b[0mshow_spectra\u001b[0m\u001b[0;34m(\u001b[0m\u001b[0;34m(\u001b[0m\u001b[0mint\u001b[0m\u001b[0;34m(\u001b[0m\u001b[0;36m500000\u001b[0m\u001b[0;34m)\u001b[0m\u001b[0;34m,\u001b[0m \u001b[0mint\u001b[0m\u001b[0;34m(\u001b[0m\u001b[0;36m501000\u001b[0m\u001b[0;34m)\u001b[0m\u001b[0;34m)\u001b[0m\u001b[0;34m,\u001b[0m \u001b[0mlabeled_modes\u001b[0m\u001b[0;34m,\u001b[0m \u001b[0mmodes\u001b[0m\u001b[0;34m)\u001b[0m\u001b[0;34m\u001b[0m\u001b[0;34m\u001b[0m\u001b[0m\n\u001b[0m",
            "\u001b[0;31mNameError\u001b[0m: name 'show_spectra' is not defined"
          ]
        }
      ]
    },
    {
      "cell_type": "code",
      "metadata": {
        "id": "8vu7igS8c9gQ"
      },
      "source": [
        "def stop():\n",
        "  spectra =  loadmat('Spectra.mat')#['Dm_total_save']\n",
        "\n",
        "  labeled_modes=[]\n",
        "  for i in range(1):\n",
        "    print(\"ITERATION: \"+str(i))\n",
        "    amp=[]\n",
        "    length = np.shape(spectra['Dm_total_save'])[0]\n",
        "    modes = [x[i]*length for x in spectra['omega_total_save']]\n",
        "    seeker = 0\n",
        "    modes = np.sort(modes)\n",
        "    for j in range(length):\n",
        "      all_amp = [0]\n",
        "      while seeker < len(modes) and modes[seeker] <= j+100:\n",
        "          # print(np.exp(np.square((j-modes[seeker])/100)))\n",
        "        all_amp.append(1/(np.exp(np.square((j-modes[seeker])/10))))\n",
        "        seeker += 1\n",
        "      while seeker < len(modes) and seeker >= 0 and modes[seeker] >= j-100:\n",
        "        # print(modes[seeker])\n",
        "        seeker -= 1\n",
        "      seeker = max(seeker,0)\n",
        "      amp.append(max(all_amp))\n",
        "      if j %100000 ==0: print(j)\n",
        "    labeled_modes.extend(amp)\n",
        "    print(len(labeled_modes))\n",
        "\n",
        "#y = labeled_modes\n",
        "#x = spectra['Dm_total_save']\n",
        "#window_len = 1000\n",
        "#reshaped_y = np.reshape(y, (int(len(y)/window_len), window_len))\n",
        "#reshaped_x = np.reshape(np.array(x), (int(len(x)/window_len), window_len, 5))"
      ],
      "execution_count": null,
      "outputs": []
    },
    {
      "cell_type": "code",
      "metadata": {
        "id": "sGoDYuwbbd7h"
      },
      "source": [
        ""
      ],
      "execution_count": null,
      "outputs": []
    },
    {
      "cell_type": "code",
      "metadata": {
        "id": "LVfWdcBJwuNN"
      },
      "source": [
        "y = labeled_modes\n",
        "window_len = 1000\n",
        "reshaped_y = np.reshape(y, (int(len(y)/window_len), window_len))\n",
        "reshaped_x = np.reshape(np.array(x), (int(len(x)/window_len), window_len, 5))"
      ],
      "execution_count": null,
      "outputs": []
    },
    {
      "cell_type": "code",
      "metadata": {
        "id": "jxBi7csU_igM"
      },
      "source": [
        "first_spectra = reshaped_x[0:1000]"
      ],
      "execution_count": null,
      "outputs": []
    },
    {
      "cell_type": "code",
      "metadata": {
        "id": "TvhFHAkBwxnN"
      },
      "source": [
        "y_pred = new_model.predict(first_spectra)"
      ],
      "execution_count": null,
      "outputs": []
    },
    {
      "cell_type": "code",
      "metadata": {
        "id": "ZC68cmncxAae"
      },
      "source": [
        "np.reshape(y_pred, (1, 1000000))\n",
        "\n",
        "#modes = [x[0]*length for x in spectra['omega_total_save']]\n",
        "show_spectra((int(500000), int(501000)), np.reshape(y_pred, (1, 1000000))[0], modes)"
      ],
      "execution_count": null,
      "outputs": []
    },
    {
      "cell_type": "code",
      "metadata": {
        "id": "QM2t1cbq7i1r"
      },
      "source": [
        "show_spectra((int(500000), int(501000)), y, modes)"
      ],
      "execution_count": null,
      "outputs": []
    },
    {
      "cell_type": "code",
      "metadata": {
        "id": "d74mq-OMx5s0"
      },
      "source": [
        "#pd.Series(np.reshape(reshaped_y, (1, 15000000))[0][15000000 - 1000:]).plot()\n",
        "#pd.Series(np.reshape(y_pred, (1, 15000000))[0][15000000 - 1000:]).plot()"
      ],
      "execution_count": null,
      "outputs": []
    },
    {
      "cell_type": "code",
      "metadata": {
        "id": "qA6_BS7dyK5q"
      },
      "source": [
        "import seaborn as sns\n",
        "from scipy.signal import savgol_filter\n",
        "from scipy.signal import find_peaks\n",
        "\n",
        "reshaped_y_pred = np.reshape(y_pred, (1, 1000000))[0]\n",
        "#pd.Series(np.reshape(reshaped_y, (1, 1000000))[0][0:10000]).plot()\n",
        "#pd.Series(savgol_filter(y_pred, 51, 3)[0:10000]).plot()\n",
        "predicted_modes = find_peaks(reshaped_y_pred, height=0.65)[0]\n",
        "#print(len(modes))\n",
        "#sns.lineplot(data = pd.Series(np.reshape(reshaped_y, (1, 1000000))[0][0:10000]))"
      ],
      "execution_count": null,
      "outputs": []
    },
    {
      "cell_type": "code",
      "metadata": {
        "id": "P-9mg6FcAhdF"
      },
      "source": [
        "print(len(predicted_modes))\n",
        "predicted_modes"
      ],
      "execution_count": null,
      "outputs": []
    },
    {
      "cell_type": "code",
      "metadata": {
        "id": "Vd4ScmEGyvQ4"
      },
      "source": [
        "modes = [x[0]*length for x in spectra['omega_total_save']]\n",
        "len(modes)"
      ],
      "execution_count": null,
      "outputs": []
    },
    {
      "cell_type": "markdown",
      "metadata": {
        "id": "iUGtATZtGiYX"
      },
      "source": [
        "# Bin Metrics"
      ]
    },
    {
      "cell_type": "code",
      "metadata": {
        "id": "tlwVNQfA_7AC"
      },
      "source": [
        "import plotly.graph_objects as go\n",
        "\n",
        "def bin_plot(num_bins):\n",
        "  peaks_detected_count = []\n",
        "  peaks_detected = []\n",
        "\n",
        "  for s in range(num_bins):\n",
        "   window_peaks = [i for i in predicted_modes if (i >= s * 1000000/num_bins) and (i < (s+1) * 1000000/num_bins)]\n",
        "   peaks_detected_count.append(len(window_peaks))\n",
        "   window_peaks = [i for i in modes if (i >= s * 1000000/num_bins) and (i < (s+1) * 1000000/num_bins)]\n",
        "   peaks_detected.append(len(window_peaks))\n",
        "\n",
        "  x_bins=list(range(num_bins))\n",
        "  fig = go.Figure()\n",
        "  # actual mode distribution by bin\n",
        "  fig.add_trace(go.Scatter(x=x_bins, y=peaks_detected,\n",
        "                    mode='lines+markers',\n",
        "                    name='Actual values'))\n",
        "  # predicted mode distribution by bin\n",
        "  fig.add_trace(go.Scatter(x=x_bins, y=peaks_detected_count,\n",
        "                    mode='lines+markers',\n",
        "                    name='Predicted values'))\n",
        "  fig.update_layout(title='Number of Modes by Bins of Normalized Hertz',\n",
        "                  xaxis_title='Bin Number',\n",
        "                   yaxis_title='Number of Modes')\n",
        "  fig.show()\n",
        "\n",
        "bin_plot(15)\n",
        "bin_plot(30) \n"
      ],
      "execution_count": null,
      "outputs": []
    },
    {
      "cell_type": "code",
      "metadata": {
        "id": "gIue202u9hLw"
      },
      "source": [
        "def bin_metrics(num_bins):\n",
        "  peaks_detected_count = []\n",
        "  peaks_detected = []\n",
        "  for s in range(num_bins):\n",
        "    window_peaks = [i for i in predicted_modes if (i >= s * 1000000/num_bins) and (i < (s+1) * 1000000/num_bins)]\n",
        "    peaks_detected_count.append(len(window_peaks))\n",
        "    window_peaks = [i for i in modes if (i >= s * 1000000/num_bins) and (i < (s+1) * 1000000/num_bins)]\n",
        "    peaks_detected.append(len(window_peaks))\n",
        "\n",
        "  diff = []\n",
        "  total_missed = 0 \n",
        "  pred_direction = 0\n",
        "  for i in range(num_bins):\n",
        "    diff.append(abs(peaks_detected_count[i] - peaks_detected[i]))\n",
        "    total_missed += abs(peaks_detected_count[i] - peaks_detected[i])\n",
        "    pred_direction += peaks_detected_count[i] - peaks_detected[i]\n",
        "\n",
        "  avg_missed = sum(diff)/num_bins \n",
        "  avg_direction = int(pred_direction)/num_bins\n",
        "\n",
        "  print(\"Each bin on average misses %f modes\" % avg_missed)\n",
        "  print(\"This model missed a total of %d modes\" % total_missed)\n",
        "\n",
        "  if pred_direction > 0:\n",
        "    print(\"On average, each bin tends to overpredict the number of modes by %f\" % avg_direction)\n",
        "  else:\n",
        "    print(\"On average, each bin tends to underpredict the number of modes by %f\" % avg_direction)\n",
        "\n",
        "bin_metrics(15)\n",
        "bin_metrics(30)\n"
      ],
      "execution_count": null,
      "outputs": []
    }
  ]
}